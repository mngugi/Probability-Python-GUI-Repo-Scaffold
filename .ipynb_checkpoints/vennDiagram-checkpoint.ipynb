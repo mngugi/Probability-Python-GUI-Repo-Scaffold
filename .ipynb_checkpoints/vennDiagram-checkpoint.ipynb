{
 "cells": [
  {
   "cell_type": "code",
   "execution_count": null,
   "id": "011178c7-ff75-4f2b-bcb8-81bfa1153a83",
   "metadata": {},
   "outputs": [],
   "source": [
    "import matplotlib.pyplot as plt\n",
    "from matplotlib_venn import venn2\n",
    "\n",
    "# Events\n",
    "# Let's say:\n",
    "# A = \"Roll is 5\"\n",
    "# B = \"Roll is odd\"\n",
    "\n",
    "# Define sizes:\n",
    "# - The universal set is {1, 2, 3, 4, 5, 6}\n",
    "# - A has 1 outcome: {5}\n",
    "# - B has 3 outcomes: {1, 3, 5}\n",
    "# Intersection A ∩ B = {5} (1 outcome)\n",
    "\n",
    "# Sizes for Venn diagram (in terms of probabilities)\n",
    "p_A = 1/6\n",
    "p_B = 3/6\n",
    "p_A_and_B = 1/6\n",
    "\n",
    "# Create the diagram\n",
    "plt.figure(figsize=(5,5))\n",
    "venn = venn2(subsets=(p_A - p_A_and_B,  # A only\n",
    "                      p_B - p_A_and_B,  # B only\n",
    "                      p_A_and_B),       # Intersection\n",
    "             set_labels=('A: Roll is 5', 'B: Roll is odd'))\n",
    "\n",
    "# Title\n",
    "plt.title(\"Conditional Probability Example: P(A|B)\", fontsize=14)\n",
    "plt.show()\n"
   ]
  }
 ],
 "metadata": {
  "kernelspec": {
   "display_name": "Python 3 (ipykernel)",
   "language": "python",
   "name": "python3"
  },
  "language_info": {
   "codemirror_mode": {
    "name": "ipython",
    "version": 3
   },
   "file_extension": ".py",
   "mimetype": "text/x-python",
   "name": "python",
   "nbconvert_exporter": "python",
   "pygments_lexer": "ipython3",
   "version": "3.13.6"
  }
 },
 "nbformat": 4,
 "nbformat_minor": 5
}
